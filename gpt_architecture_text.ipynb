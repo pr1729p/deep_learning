{
  "nbformat": 4,
  "nbformat_minor": 0,
  "metadata": {
    "colab": {
      "provenance": [],
      "gpuType": "T4",
      "include_colab_link": true
    },
    "kernelspec": {
      "name": "python3",
      "display_name": "Python 3"
    },
    "language_info": {
      "name": "python"
    },
    "accelerator": "GPU"
  },
  "cells": [
    {
      "cell_type": "markdown",
      "metadata": {
        "id": "view-in-github",
        "colab_type": "text"
      },
      "source": [
        "<a href=\"https://colab.research.google.com/github/pr1729p/deep_learning/blob/main/gpt_architecture_text.ipynb\" target=\"_parent\"><img src=\"https://colab.research.google.com/assets/colab-badge.svg\" alt=\"Open In Colab\"/></a>"
      ]
    },
    {
      "cell_type": "code",
      "execution_count": 1,
      "metadata": {
        "id": "SJNCV-kI28et"
      },
      "outputs": [],
      "source": [
        "import torch"
      ]
    },
    {
      "cell_type": "code",
      "source": [
        "import torch.nn as nn"
      ],
      "metadata": {
        "id": "xFb0wG_g3KrT"
      },
      "execution_count": 2,
      "outputs": []
    },
    {
      "cell_type": "code",
      "source": [
        "from torch.nn import functional as F"
      ],
      "metadata": {
        "id": "NPUF9vKC4B-T"
      },
      "execution_count": 3,
      "outputs": []
    },
    {
      "cell_type": "code",
      "source": [
        "#hyperparameters\n",
        "\n",
        "batch_size = 8\n",
        "block_size = 64\n",
        "max_iters = 4000\n",
        "#eval_iters = 100\n",
        "learning_rate = 1e-3\n",
        "device = 'cuda' if torch.cuda.is_available() else 'cpu'\n",
        "\n",
        "eval_iters = 200\n",
        "n_embd = 64\n",
        "n_head = 4\n",
        "n_layer = 4\n",
        "dropout_prob = 0.1\n",
        "\n",
        "eval_interval = 100"
      ],
      "metadata": {
        "id": "mjyKf-MK4GpQ"
      },
      "execution_count": 4,
      "outputs": []
    },
    {
      "cell_type": "code",
      "source": [
        "torch.manual_seed(1729)"
      ],
      "metadata": {
        "colab": {
          "base_uri": "https://localhost:8080/"
        },
        "id": "vM2mVMGE4bNy",
        "outputId": "bf7fd1b2-edc1-4a70-8ab3-168a526d0316"
      },
      "execution_count": 5,
      "outputs": [
        {
          "output_type": "execute_result",
          "data": {
            "text/plain": [
              "<torch._C.Generator at 0x7863c83856f0>"
            ]
          },
          "metadata": {},
          "execution_count": 5
        }
      ]
    },
    {
      "cell_type": "code",
      "source": [
        "english_text = open('input.txt', 'r', encoding = 'utf-8').read()"
      ],
      "metadata": {
        "id": "h2SsjOF84b-6"
      },
      "execution_count": 6,
      "outputs": []
    },
    {
      "cell_type": "code",
      "source": [
        "print(english_text[:100])"
      ],
      "metadata": {
        "colab": {
          "base_uri": "https://localhost:8080/"
        },
        "id": "XGXhf2WW4cAX",
        "outputId": "6e2ff77b-54fc-4e27-a342-1ee46fef3056"
      },
      "execution_count": 7,
      "outputs": [
        {
          "output_type": "stream",
          "name": "stdout",
          "text": [
            "First Citizen:\n",
            "Before we proceed any further, hear me speak.\n",
            "\n",
            "All:\n",
            "Speak, speak.\n",
            "\n",
            "First Citizen:\n",
            "You\n"
          ]
        }
      ]
    },
    {
      "cell_type": "code",
      "source": [
        "print(len(english_text))"
      ],
      "metadata": {
        "colab": {
          "base_uri": "https://localhost:8080/"
        },
        "id": "AgUEIrE94cD3",
        "outputId": "69422cd4-164c-4cad-aacf-66c921c6a7b2"
      },
      "execution_count": 8,
      "outputs": [
        {
          "output_type": "stream",
          "name": "stdout",
          "text": [
            "1115394\n"
          ]
        }
      ]
    },
    {
      "cell_type": "code",
      "source": [
        "vocab = sorted(list(set(english_text)))\n",
        "vocab_size  = len(vocab)\n",
        "all_vocab = ''.join(vocab)\n",
        "print(all_vocab)\n",
        "print('vocab_size:', vocab_size)"
      ],
      "metadata": {
        "colab": {
          "base_uri": "https://localhost:8080/"
        },
        "id": "duwlft_z4cFf",
        "outputId": "0206fe45-9f0a-4111-e2fb-fb6699959e78"
      },
      "execution_count": 9,
      "outputs": [
        {
          "output_type": "stream",
          "name": "stdout",
          "text": [
            "\n",
            " !$&',-.3:;?ABCDEFGHIJKLMNOPQRSTUVWXYZabcdefghijklmnopqrstuvwxyz\n",
            "vocab_size: 65\n"
          ]
        }
      ]
    },
    {
      "cell_type": "code",
      "source": [
        "char_to_int = {c:i for i,c in enumerate(vocab)}\n",
        "int_to_char = {i:c for c,i in char_to_int.items()}\n",
        "print('char_to_int:',char_to_int)\n",
        "print('int_to_char:', int_to_char)"
      ],
      "metadata": {
        "colab": {
          "base_uri": "https://localhost:8080/"
        },
        "id": "Rgn4eFsm4cJK",
        "outputId": "b2854e1e-e921-44f8-e250-6c7a5c829b3c"
      },
      "execution_count": 10,
      "outputs": [
        {
          "output_type": "stream",
          "name": "stdout",
          "text": [
            "char_to_int: {'\\n': 0, ' ': 1, '!': 2, '$': 3, '&': 4, \"'\": 5, ',': 6, '-': 7, '.': 8, '3': 9, ':': 10, ';': 11, '?': 12, 'A': 13, 'B': 14, 'C': 15, 'D': 16, 'E': 17, 'F': 18, 'G': 19, 'H': 20, 'I': 21, 'J': 22, 'K': 23, 'L': 24, 'M': 25, 'N': 26, 'O': 27, 'P': 28, 'Q': 29, 'R': 30, 'S': 31, 'T': 32, 'U': 33, 'V': 34, 'W': 35, 'X': 36, 'Y': 37, 'Z': 38, 'a': 39, 'b': 40, 'c': 41, 'd': 42, 'e': 43, 'f': 44, 'g': 45, 'h': 46, 'i': 47, 'j': 48, 'k': 49, 'l': 50, 'm': 51, 'n': 52, 'o': 53, 'p': 54, 'q': 55, 'r': 56, 's': 57, 't': 58, 'u': 59, 'v': 60, 'w': 61, 'x': 62, 'y': 63, 'z': 64}\n",
            "int_to_char: {0: '\\n', 1: ' ', 2: '!', 3: '$', 4: '&', 5: \"'\", 6: ',', 7: '-', 8: '.', 9: '3', 10: ':', 11: ';', 12: '?', 13: 'A', 14: 'B', 15: 'C', 16: 'D', 17: 'E', 18: 'F', 19: 'G', 20: 'H', 21: 'I', 22: 'J', 23: 'K', 24: 'L', 25: 'M', 26: 'N', 27: 'O', 28: 'P', 29: 'Q', 30: 'R', 31: 'S', 32: 'T', 33: 'U', 34: 'V', 35: 'W', 36: 'X', 37: 'Y', 38: 'Z', 39: 'a', 40: 'b', 41: 'c', 42: 'd', 43: 'e', 44: 'f', 45: 'g', 46: 'h', 47: 'i', 48: 'j', 49: 'k', 50: 'l', 51: 'm', 52: 'n', 53: 'o', 54: 'p', 55: 'q', 56: 'r', 57: 's', 58: 't', 59: 'u', 60: 'v', 61: 'w', 62: 'x', 63: 'y', 64: 'z'}\n"
          ]
        }
      ]
    },
    {
      "cell_type": "code",
      "source": [
        "encode = lambda s: [char_to_int[c] for c in s]\n",
        "decode = lambda l: ''.join(int_to_char[i] for i in l)\n",
        "print(encode(\"This is my code.\\\n",
        "It is for practice\"))"
      ],
      "metadata": {
        "colab": {
          "base_uri": "https://localhost:8080/"
        },
        "id": "joOJwf1T4cKs",
        "outputId": "c68c0233-4bbe-4edb-a47f-d56595dc662a"
      },
      "execution_count": 11,
      "outputs": [
        {
          "output_type": "stream",
          "name": "stdout",
          "text": [
            "[32, 46, 47, 57, 1, 47, 57, 1, 51, 63, 1, 41, 53, 42, 43, 8, 21, 58, 1, 47, 57, 1, 44, 53, 56, 1, 54, 56, 39, 41, 58, 47, 41, 43]\n"
          ]
        }
      ]
    },
    {
      "cell_type": "code",
      "source": [
        "data = torch.tensor(encode(english_text), dtype = torch.long)"
      ],
      "metadata": {
        "id": "sBj1-f1K4cOn"
      },
      "execution_count": 12,
      "outputs": []
    },
    {
      "cell_type": "code",
      "source": [
        "n = int(0.9*len(data))\n",
        "train_data = data[:n]\n",
        "val_data = data[n:]"
      ],
      "metadata": {
        "id": "NRri9hDi4cQU"
      },
      "execution_count": 13,
      "outputs": []
    },
    {
      "cell_type": "code",
      "source": [
        "def get_batch(split):\n",
        "  data = train_data if split == 'train' else val_data\n",
        "  ix = torch.randint(len(data)- block_size,(batch_size,))\n",
        "  x = torch.stack([data[i: i+ block_size] for i in ix])\n",
        "  y = torch.stack([data[i+1: i+ block_size +1] for i in ix])\n",
        "  x,y = x.to(device), y.to(device)\n",
        "  return x,y\n"
      ],
      "metadata": {
        "id": "4JFpPr7d4cUC"
      },
      "execution_count": 14,
      "outputs": []
    },
    {
      "cell_type": "code",
      "source": [
        "@torch.no_grad()\n",
        "def estimate_loss():\n",
        "  out = {}\n",
        "  model.eval()\n",
        "  for split in ['train','val']:\n",
        "    losses = torch.zeros(eval_iters)\n",
        "    for x in range(eval_iters):\n",
        "      X,Y = get_batch(split)\n",
        "      logits, loss = model(X,Y)\n",
        "      losses[x] = loss.item()\n",
        "    out[split] = losses.mean()\n",
        "\n",
        "  model.train()\n",
        "  return out"
      ],
      "metadata": {
        "id": "GchztTCR4cVq"
      },
      "execution_count": 15,
      "outputs": []
    },
    {
      "cell_type": "code",
      "source": [
        "#self attention with single head\n",
        "class Head(nn.Module):\n",
        "  def __init__(self,head_size):\n",
        "    super().__init__()\n",
        "    self.key = nn.Linear(n_embd, head_size,bias = False)\n",
        "    self.query = nn.Linear(n_embd, head_size,bias = False)\n",
        "    self.value = nn.Linear(n_embd, head_size,bias = False)\n",
        "\n",
        "    self.register_buffer('tril', torch.tril(torch.ones(block_size, block_size)))\n",
        "    self.dropout = nn.Dropout(dropout_prob)\n",
        "\n",
        "\n",
        "  def forward(self,x):\n",
        "    B,T,C = x.shape\n",
        "    k = self.key(x)     #B,T,C\n",
        "    q = self.query(x)\n",
        "    wgt = q @ k.transpose(-2,-1) * C**-0.5 #B,T,head_size  @ B,head_size,T ---> B, T, T\n",
        "    wgt = wgt.masked_fill(self.tril[:T, :T] == 0, float('-inf'))\n",
        "    wgt = F.softmax(wgt, dim =-1)\n",
        "\n",
        "    wgt = self.dropout(wgt)\n",
        "    v = self.value(x)\n",
        "    out = wgt @ v  #B,T,T @ B,T,C--> B,T,C\n",
        "    return out"
      ],
      "metadata": {
        "id": "iRSkSEIa4cZ8"
      },
      "execution_count": 16,
      "outputs": []
    },
    {
      "cell_type": "code",
      "source": [
        "class MultiHeadAttention(nn.Module):\n",
        "  def __init__(self,num_heads, head_size):\n",
        "    super().__init__()\n",
        "    self.heads = nn.ModuleList([Head(head_size) for _ in range(num_heads)])\n",
        "    self.proj = nn.Linear(n_embd, n_embd)\n",
        "    self.dropout = nn.Dropout(dropout_prob)\n",
        "\n",
        "  def forward(self,x):\n",
        "    out = torch.cat([p(x) for p in self.heads], dim = -1)\n",
        "    out = self.dropout(self.proj(out))\n",
        "    return out\n",
        "\n"
      ],
      "metadata": {
        "id": "6FNuWPSf4cdI"
      },
      "execution_count": 17,
      "outputs": []
    },
    {
      "cell_type": "code",
      "source": [
        "class FeedForward(nn.Module):\n",
        "  def __init__(self, n_embd):\n",
        "    super().__init__()\n",
        "    self.net = nn.Sequential(\n",
        "        nn.Linear(n_embd, 4*n_embd),\n",
        "        nn.ReLU(),\n",
        "        nn.Linear(4*n_embd, n_embd),\n",
        "        nn.Dropout(dropout_prob),\n",
        "    )\n",
        "\n",
        "  def forward(self,x):\n",
        "    return self.net(x)\n"
      ],
      "metadata": {
        "id": "4ZX5ZRIO4cha"
      },
      "execution_count": 18,
      "outputs": []
    },
    {
      "cell_type": "code",
      "source": [
        "class Block(nn.Module):\n",
        "  def __init__(self, n_embd, n_head):\n",
        "    super().__init__()\n",
        "    head_size = n_embd // n_head\n",
        "    self.sa = MultiHeadAttention(n_head, head_size)\n",
        "    self.ffwd = FeedForward(n_embd)\n",
        "    self.ln1 = nn.LayerNorm(n_embd)\n",
        "    self.ln2 = nn.LayerNorm(n_embd)\n",
        "\n",
        "\n",
        "  def forward(self,x):\n",
        "    x = x+ self.sa(self.ln1(x))\n",
        "    x = x + self.ffwd(self.ln2(x))\n",
        "    return x\n"
      ],
      "metadata": {
        "id": "fZxxVRNo4ciz"
      },
      "execution_count": 19,
      "outputs": []
    },
    {
      "cell_type": "code",
      "source": [
        "class BigramLanguageModel(nn.Module):\n",
        "  def __init__(self):\n",
        "    super().__init__()\n",
        "    self.token_embedding_table = nn.Embedding(vocab_size, n_embd)\n",
        "    self.position_embedding_table = nn.Embedding(block_size,n_embd)\n",
        "    self.blocks = nn.Sequential(*[Block(n_embd, n_head = n_head) for _ in range(n_layer)])\n",
        "    self.ln_f = nn.LayerNorm(n_embd)\n",
        "    self.lm_head = nn.Linear(n_embd, vocab_size)\n",
        "\n",
        "\n",
        "\n",
        "  def forward(self, idx, targets = None):\n",
        "    B,T = idx.shape\n",
        "    tok_emb = self.token_embedding_table(idx)\n",
        "    pos_emb = self.position_embedding_table(torch.arange(T, device = device))\n",
        "\n",
        "    x= tok_emb +pos_emb\n",
        "    x = self.blocks(x)\n",
        "    x = self.ln_f(x)\n",
        "\n",
        "    logits = self.lm_head(x)\n",
        "    if targets is None:\n",
        "      loss = None\n",
        "    else:\n",
        "      B,T,C = logits.shape\n",
        "      logits = logits.view(B*T, C)\n",
        "      targets = targets.view(B*T)\n",
        "      loss = F.cross_entropy(logits, targets)\n",
        "\n",
        "\n",
        "    return logits, loss\n",
        "\n",
        "  def generate(self, idx, max_new_tokens):\n",
        "    for _ in range(max_new_tokens):\n",
        "      idx_cond = idx[:, -block_size:]\n",
        "\n",
        "      logits, loss = self(idx_cond)\n",
        "      logits = logits[:,-1,:]\n",
        "      probs = F.softmax(logits, dim = -1)\n",
        "      idx_next = torch.multinomial(probs, num_samples = 1)\n",
        "      idx = torch.cat((idx, idx_next), dim = 1)\n",
        "\n",
        "    return idx\n"
      ],
      "metadata": {
        "id": "NIGMDTTl4clw"
      },
      "execution_count": 20,
      "outputs": []
    },
    {
      "cell_type": "code",
      "source": [
        "model = BigramLanguageModel()\n",
        "m = model.to(device)\n",
        "print(sum(p.numel() for p in m.parameters())/1e6, 'M parameters')\n",
        "\n",
        "\n",
        "optimizer = torch.optim.AdamW(model.parameters(), lr = learning_rate)\n",
        "\n",
        "\n",
        "for iter in range(max_iters):\n",
        "\n",
        "  if iter % eval_interval == 0 or iter == max_iters -1:\n",
        "    losses = estimate_loss()\n",
        "    print(f\"step {iter} : train loss {losses['train']: .4f}, val loss {losses['val']:.4f}\")\n",
        "\n",
        "  xb,yb = get_batch('train')\n",
        "  logits, loss = model(xb, yb)\n",
        "  optimizer.zero_grad(set_to_none = True)\n",
        "  loss.backward()\n",
        "  optimizer.step()\n",
        "\n",
        "context = torch.zeros((1,1), dtype = torch.long, device = device)\n"
      ],
      "metadata": {
        "colab": {
          "base_uri": "https://localhost:8080/"
        },
        "id": "Xa2jr6wv4cnT",
        "outputId": "5b167595-3c47-447e-a9e9-52b724505281"
      },
      "execution_count": 21,
      "outputs": [
        {
          "output_type": "stream",
          "name": "stdout",
          "text": [
            "0.211777 M parameters\n",
            "step 0 : train loss  4.3013, val loss 4.2990\n",
            "step 100 : train loss  2.7109, val loss 2.7189\n",
            "step 200 : train loss  2.5635, val loss 2.5770\n",
            "step 300 : train loss  2.5129, val loss 2.5126\n",
            "step 400 : train loss  2.4700, val loss 2.4769\n",
            "step 500 : train loss  2.4413, val loss 2.4353\n",
            "step 600 : train loss  2.3928, val loss 2.4121\n",
            "step 700 : train loss  2.3691, val loss 2.3769\n",
            "step 800 : train loss  2.3329, val loss 2.3405\n",
            "step 900 : train loss  2.3021, val loss 2.3247\n",
            "step 1000 : train loss  2.2665, val loss 2.2802\n",
            "step 1100 : train loss  2.2427, val loss 2.2621\n",
            "step 1200 : train loss  2.2208, val loss 2.2379\n",
            "step 1300 : train loss  2.1943, val loss 2.2093\n",
            "step 1400 : train loss  2.1675, val loss 2.1900\n",
            "step 1500 : train loss  2.1504, val loss 2.1702\n",
            "step 1600 : train loss  2.1197, val loss 2.1471\n",
            "step 1700 : train loss  2.1104, val loss 2.1411\n",
            "step 1800 : train loss  2.0853, val loss 2.1202\n",
            "step 1900 : train loss  2.0708, val loss 2.1103\n",
            "step 2000 : train loss  2.0459, val loss 2.0921\n",
            "step 2100 : train loss  2.0365, val loss 2.0838\n",
            "step 2200 : train loss  2.0214, val loss 2.0637\n",
            "step 2300 : train loss  1.9983, val loss 2.0688\n",
            "step 2400 : train loss  2.0009, val loss 2.0621\n",
            "step 2500 : train loss  1.9829, val loss 2.0408\n",
            "step 2600 : train loss  1.9624, val loss 2.0261\n",
            "step 2700 : train loss  1.9436, val loss 2.0237\n",
            "step 2800 : train loss  1.9467, val loss 1.9936\n",
            "step 2900 : train loss  1.9298, val loss 2.0132\n",
            "step 3000 : train loss  1.9297, val loss 2.0020\n",
            "step 3100 : train loss  1.9098, val loss 1.9760\n",
            "step 3200 : train loss  1.9063, val loss 1.9843\n",
            "step 3300 : train loss  1.8945, val loss 1.9783\n",
            "step 3400 : train loss  1.8805, val loss 1.9722\n",
            "step 3500 : train loss  1.8768, val loss 1.9778\n",
            "step 3600 : train loss  1.8616, val loss 1.9640\n",
            "step 3700 : train loss  1.8571, val loss 1.9460\n",
            "step 3800 : train loss  1.8488, val loss 1.9505\n",
            "step 3900 : train loss  1.8331, val loss 1.9364\n",
            "step 3999 : train loss  1.8311, val loss 1.9435\n"
          ]
        }
      ]
    },
    {
      "cell_type": "code",
      "source": [
        "print(decode(m.generate(context, max_new_tokens = 2000)[0].tolist()))\n"
      ],
      "metadata": {
        "colab": {
          "base_uri": "https://localhost:8080/"
        },
        "id": "jnIOdTITjLat",
        "outputId": "1e9a0f39-2adf-4a58-e548-7d163f3f3253"
      },
      "execution_count": 22,
      "outputs": [
        {
          "output_type": "stream",
          "name": "stdout",
          "text": [
            "\n",
            "As do? last I mosmbood erroges, at in houraln.\n",
            "\n",
            "WESSCEOF VINE:\n",
            "And word well you trost not.\n",
            "\n",
            "GLord RICHARDS:\n",
            "Your Bownam, unt my const all thestere lork.\n",
            "\n",
            "LLIZUCHENR:\n",
            "No!\n",
            "\n",
            "GoLienn beath sord then; the if prustarn,\n",
            "You Mat, tha not your stelsan: tay be fortilly:\n",
            "It the my so:\n",
            "Will\n",
            "Dull I theye batarry iff, I freselage,\n",
            "Tise to for your aind as the\n",
            "tome of to a beald good hampreas take ther waves,\n",
            "To suck of to and lofteas to lettrave.\n",
            "\n",
            "BRICHEM:\n",
            "All vile but thonguly, gome.\n",
            "\n",
            "BREWINCE:\n",
            "Ay resos! Ralewear, im.\n",
            "\n",
            "Googe:\n",
            "\n",
            "The che cofondilt:\n",
            "Well sho fose cuttar on our dle;\n",
            "Go to then delf hand hoar consat you nos.\n",
            "\n",
            "MENRY OF IAHGin VI:\n",
            "Thle love, sie card! We a seire to to ure!\n",
            "The not kinay, that'y how! this ongake youm lord.\n",
            "\n",
            "Hy Loo, sorr:\n",
            "Jull then that not sicherx.\n",
            "\n",
            "KING' RICHARK:\n",
            "Go, lett s, some theret say:\n",
            "Kad pore sundeed: to Risent, mad, I thoult art,\n",
            "Wand your whiph go?\n",
            "\n",
            "DUTET:\n",
            "What there, its suck, not.\n",
            "\n",
            "CLAUMEREA:\n",
            "But you go, ithy beee, froce stry of yoarr to bestateur, by,\n",
            "Thy, greedball hich 't thand Gardst to cuded Cudan\n",
            "Hughn his the day tO nathil, like no to't tome the our where had ant drnong a\n",
            "To hard hon say so.\n",
            "\n",
            "FLO.\n",
            "\n",
            "ELONCENTE:\n",
            "O.\n",
            "\n",
            "Join Ygatens,\n",
            "Theffort us asconved to two hem what, who he for I heard do thew\n",
            "Well fujowes dothe unceen und here\n",
            "to the sondund, I no vot that,\n",
            "Rorr les this ance to so sheendince no prueothle'd to itheir,\n",
            "'Bettsitle.\n",
            "To Meld, givents foot to'ry,\n",
            "And if the fixh foist forthoour onso my fach?\n",
            "\n",
            "Paw:\n",
            "Parsl,\n",
            "O by atrussom'sown thy nay? llove againtlers.\n",
            "\n",
            "SeCom:\n",
            "Prewer unt to of your inst that brone the sould\n",
            "To untell fear Aour bonce in all at ogres\n",
            "The savend the hour befer are fatel'd but larry\n",
            "Buspalent I supprove quot elplovers. You hear, do a destay?\n",
            "\n",
            "ThAre wilt atind dear:\n",
            "Not in tied,\n",
            "And shall so at: go shallys what watkss\n",
            "And us rajow.\n",
            "\n",
            "Brom EDWARG:\n",
            "Who marry had how, wath gords of theye, they.\n",
            "\n",
            "HEDME-\n",
            "\n",
            "CUCHOBRUMENT:\n",
            "Yot the cout, sead houlwart a shall fore foin men\n",
            "sondo's you have nothe day sou in. He,\n",
            "\n",
            "IFRINIUKE:\n",
            "I'\n"
          ]
        }
      ]
    },
    {
      "cell_type": "code",
      "source": [],
      "metadata": {
        "id": "w5y0kuQ3lsqw"
      },
      "execution_count": 22,
      "outputs": []
    }
  ]
}