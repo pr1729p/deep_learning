{
  "nbformat": 4,
  "nbformat_minor": 0,
  "metadata": {
    "colab": {
      "provenance": [],
      "authorship_tag": "ABX9TyOeYkfRJxytNdonijfcLgj8",
      "include_colab_link": true
    },
    "kernelspec": {
      "name": "python3",
      "display_name": "Python 3"
    },
    "language_info": {
      "name": "python"
    }
  },
  "cells": [
    {
      "cell_type": "markdown",
      "metadata": {
        "id": "view-in-github",
        "colab_type": "text"
      },
      "source": [
        "<a href=\"https://colab.research.google.com/github/pr1729p/deep_learning/blob/main/name_gen.ipynb\" target=\"_parent\"><img src=\"https://colab.research.google.com/assets/colab-badge.svg\" alt=\"Open In Colab\"/></a>"
      ]
    },
    {
      "cell_type": "code",
      "execution_count": 1,
      "metadata": {
        "id": "UeA2ELeH4P3n"
      },
      "outputs": [],
      "source": [
        "import torch\n",
        "import torch.nn.functional as F\n",
        "import matplotlib.pyplot as plt\n",
        "%matplotlib inLine"
      ]
    },
    {
      "cell_type": "code",
      "source": [
        "words = open(\"names.txt\",'r').read().splitlines()"
      ],
      "metadata": {
        "id": "iNGyvgrI40CZ"
      },
      "execution_count": 2,
      "outputs": []
    },
    {
      "cell_type": "code",
      "source": [
        "words[:5]"
      ],
      "metadata": {
        "colab": {
          "base_uri": "https://localhost:8080/"
        },
        "id": "9feOCzNx4-_e",
        "outputId": "ceb6fdf5-4f10-4bc0-f2bf-4a48dc8e9bac"
      },
      "execution_count": 3,
      "outputs": [
        {
          "output_type": "execute_result",
          "data": {
            "text/plain": [
              "['emma', 'olivia', 'ava', 'isabella', 'sophia']"
            ]
          },
          "metadata": {},
          "execution_count": 3
        }
      ]
    },
    {
      "cell_type": "code",
      "source": [
        "len(words)"
      ],
      "metadata": {
        "colab": {
          "base_uri": "https://localhost:8080/"
        },
        "id": "dnLzLPh15Cay",
        "outputId": "000b9f5a-0a3f-4fb3-f7b3-a175449b916e"
      },
      "execution_count": 4,
      "outputs": [
        {
          "output_type": "execute_result",
          "data": {
            "text/plain": [
              "32033"
            ]
          },
          "metadata": {},
          "execution_count": 4
        }
      ]
    },
    {
      "cell_type": "code",
      "source": [
        "alphabet = sorted(list(set(''.join(words))))\n",
        "alphabet"
      ],
      "metadata": {
        "colab": {
          "base_uri": "https://localhost:8080/"
        },
        "id": "Ohe4zIs-5DlB",
        "outputId": "cd2cf8be-bc39-4f8e-d7c7-12793b1326de"
      },
      "execution_count": 6,
      "outputs": [
        {
          "output_type": "execute_result",
          "data": {
            "text/plain": [
              "['a',\n",
              " 'b',\n",
              " 'c',\n",
              " 'd',\n",
              " 'e',\n",
              " 'f',\n",
              " 'g',\n",
              " 'h',\n",
              " 'i',\n",
              " 'j',\n",
              " 'k',\n",
              " 'l',\n",
              " 'm',\n",
              " 'n',\n",
              " 'o',\n",
              " 'p',\n",
              " 'q',\n",
              " 'r',\n",
              " 's',\n",
              " 't',\n",
              " 'u',\n",
              " 'v',\n",
              " 'w',\n",
              " 'x',\n",
              " 'y',\n",
              " 'z']"
            ]
          },
          "metadata": {},
          "execution_count": 6
        }
      ]
    },
    {
      "cell_type": "code",
      "source": [
        "char_to_int = {c:i+1 for i,c in enumerate(alphabet)}\n",
        "char_to_int['.'] = 0\n",
        "int_to_char = {i:c for c,i in char_to_int.items()}\n",
        "print(char_to_int)"
      ],
      "metadata": {
        "colab": {
          "base_uri": "https://localhost:8080/"
        },
        "id": "LnlV_smR5ibl",
        "outputId": "f13412b1-4dcb-451b-8f32-667c1a2939a6"
      },
      "execution_count": 9,
      "outputs": [
        {
          "output_type": "stream",
          "name": "stdout",
          "text": [
            "{'a': 1, 'b': 2, 'c': 3, 'd': 4, 'e': 5, 'f': 6, 'g': 7, 'h': 8, 'i': 9, 'j': 10, 'k': 11, 'l': 12, 'm': 13, 'n': 14, 'o': 15, 'p': 16, 'q': 17, 'r': 18, 's': 19, 't': 20, 'u': 21, 'v': 22, 'w': 23, 'x': 24, 'y': 25, 'z': 26, '.': 0}\n"
          ]
        }
      ]
    },
    {
      "cell_type": "code",
      "source": [
        "block_size = 3\n",
        "X,Y = [],[]\n",
        "for i in words[:5]:\n",
        "  print(i)\n",
        "  context = [0] * block_size\n",
        "  for p in i +'.':\n",
        "    idx = char_to_int[p]\n",
        "    X.append(context)\n",
        "    Y.append(idx)\n",
        "    print(''.join(int_to_char[c] for c in context), '--->',p )\n",
        "    context = context[1:] + [idx]\n",
        "\n",
        "X = torch.tensor(X)\n",
        "Y = torch.tensor(Y)\n"
      ],
      "metadata": {
        "colab": {
          "base_uri": "https://localhost:8080/"
        },
        "id": "9RSzLdfr6YQi",
        "outputId": "902bb48e-d689-4077-8d53-3e5e306d27ad"
      },
      "execution_count": 16,
      "outputs": [
        {
          "output_type": "stream",
          "name": "stdout",
          "text": [
            "emma\n",
            "... ---> e\n",
            "..e ---> m\n",
            ".em ---> m\n",
            "emm ---> a\n",
            "mma ---> .\n",
            "olivia\n",
            "... ---> o\n",
            "..o ---> l\n",
            ".ol ---> i\n",
            "oli ---> v\n",
            "liv ---> i\n",
            "ivi ---> a\n",
            "via ---> .\n",
            "ava\n",
            "... ---> a\n",
            "..a ---> v\n",
            ".av ---> a\n",
            "ava ---> .\n",
            "isabella\n",
            "... ---> i\n",
            "..i ---> s\n",
            ".is ---> a\n",
            "isa ---> b\n",
            "sab ---> e\n",
            "abe ---> l\n",
            "bel ---> l\n",
            "ell ---> a\n",
            "lla ---> .\n",
            "sophia\n",
            "... ---> s\n",
            "..s ---> o\n",
            ".so ---> p\n",
            "sop ---> h\n",
            "oph ---> i\n",
            "phi ---> a\n",
            "hia ---> .\n"
          ]
        }
      ]
    },
    {
      "cell_type": "code",
      "source": [
        "X.shape, X.dtype, Y.shape, Y.dtype"
      ],
      "metadata": {
        "colab": {
          "base_uri": "https://localhost:8080/"
        },
        "id": "WzffWuWKCqGR",
        "outputId": "6aa3ff82-4091-4fbb-b0f1-867e7b842d73"
      },
      "execution_count": 17,
      "outputs": [
        {
          "output_type": "execute_result",
          "data": {
            "text/plain": [
              "(torch.Size([32, 3]), torch.int64, torch.Size([32]), torch.int64)"
            ]
          },
          "metadata": {},
          "execution_count": 17
        }
      ]
    },
    {
      "cell_type": "code",
      "source": [
        "Tb = torch.randn((27,2))\n",
        "Tb"
      ],
      "metadata": {
        "colab": {
          "base_uri": "https://localhost:8080/"
        },
        "id": "af7GfIQGh1Ak",
        "outputId": "7fe5d208-17db-460e-b2ea-3bfb01c2de85"
      },
      "execution_count": 19,
      "outputs": [
        {
          "output_type": "execute_result",
          "data": {
            "text/plain": [
              "tensor([[-0.2078,  0.4918],\n",
              "        [-1.1517,  0.0263],\n",
              "        [-0.7879,  1.0851],\n",
              "        [ 1.8469, -0.2956],\n",
              "        [-1.1877, -0.4599],\n",
              "        [ 0.6413, -0.1286],\n",
              "        [ 0.4222, -0.5003],\n",
              "        [ 0.6790, -1.0597],\n",
              "        [-1.2616,  0.2579],\n",
              "        [ 0.8038,  1.0480],\n",
              "        [-1.6057, -1.1201],\n",
              "        [ 1.0990,  0.7600],\n",
              "        [-0.9482,  0.2679],\n",
              "        [ 0.0119,  0.3816],\n",
              "        [-0.8224,  0.4019],\n",
              "        [-0.6526,  2.1497],\n",
              "        [-0.5010,  0.0587],\n",
              "        [ 0.1932, -0.0388],\n",
              "        [ 0.1950,  1.4597],\n",
              "        [-0.7248,  0.3385],\n",
              "        [-0.4189, -0.7562],\n",
              "        [ 1.4100, -2.6846],\n",
              "        [-0.9765,  1.1767],\n",
              "        [-1.2545, -0.2361],\n",
              "        [-1.0659,  0.0832],\n",
              "        [ 2.0666,  0.1501],\n",
              "        [-1.8274,  1.0605]])"
            ]
          },
          "metadata": {},
          "execution_count": 19
        }
      ]
    },
    {
      "cell_type": "code",
      "source": [
        "Tb[5]"
      ],
      "metadata": {
        "colab": {
          "base_uri": "https://localhost:8080/"
        },
        "id": "SRtHGNBmkHUq",
        "outputId": "7b4ae895-b8b7-4076-afb3-19f93479547b"
      },
      "execution_count": 22,
      "outputs": [
        {
          "output_type": "execute_result",
          "data": {
            "text/plain": [
              "tensor([ 0.6413, -0.1286])"
            ]
          },
          "metadata": {},
          "execution_count": 22
        }
      ]
    },
    {
      "cell_type": "code",
      "source": [
        "F.one_hot(torch.tensor(5), num_classes=27)"
      ],
      "metadata": {
        "colab": {
          "base_uri": "https://localhost:8080/"
        },
        "id": "h_2uPYoLiHdF",
        "outputId": "0c4482af-c6b6-48c8-bf06-745cd379a833"
      },
      "execution_count": 20,
      "outputs": [
        {
          "output_type": "execute_result",
          "data": {
            "text/plain": [
              "tensor([0, 0, 0, 0, 0, 1, 0, 0, 0, 0, 0, 0, 0, 0, 0, 0, 0, 0, 0, 0, 0, 0, 0, 0,\n",
              "        0, 0, 0])"
            ]
          },
          "metadata": {},
          "execution_count": 20
        }
      ]
    },
    {
      "cell_type": "code",
      "source": [
        "F.one_hot(torch.tensor(5), num_classes=27).float() @ Tb\n",
        "# same as above"
      ],
      "metadata": {
        "colab": {
          "base_uri": "https://localhost:8080/"
        },
        "id": "N8K8TkNtjzhx",
        "outputId": "c98efbfa-4a31-4e20-ccbc-f92f95557134"
      },
      "execution_count": 23,
      "outputs": [
        {
          "output_type": "execute_result",
          "data": {
            "text/plain": [
              "tensor([ 0.6413, -0.1286])"
            ]
          },
          "metadata": {},
          "execution_count": 23
        }
      ]
    },
    {
      "cell_type": "code",
      "source": [
        "Tb[[5,6,7]]\n",
        "#indexing over a list"
      ],
      "metadata": {
        "colab": {
          "base_uri": "https://localhost:8080/"
        },
        "id": "IJA7aBaXj42P",
        "outputId": "d983fab0-c25f-4ce0-ba9c-9a4897159c3d"
      },
      "execution_count": 24,
      "outputs": [
        {
          "output_type": "execute_result",
          "data": {
            "text/plain": [
              "tensor([[ 0.6413, -0.1286],\n",
              "        [ 0.4222, -0.5003],\n",
              "        [ 0.6790, -1.0597]])"
            ]
          },
          "metadata": {},
          "execution_count": 24
        }
      ]
    },
    {
      "cell_type": "code",
      "source": [
        "Tb[torch.tensor([5,6,7])]\n",
        "#indexing over a tensor"
      ],
      "metadata": {
        "colab": {
          "base_uri": "https://localhost:8080/"
        },
        "id": "99RMIUDwlAKZ",
        "outputId": "32560433-801f-4141-dcba-b940cacd7f53"
      },
      "execution_count": 25,
      "outputs": [
        {
          "output_type": "execute_result",
          "data": {
            "text/plain": [
              "tensor([[ 0.6413, -0.1286],\n",
              "        [ 0.4222, -0.5003],\n",
              "        [ 0.6790, -1.0597]])"
            ]
          },
          "metadata": {},
          "execution_count": 25
        }
      ]
    },
    {
      "cell_type": "code",
      "source": [
        "Tb[X].shape"
      ],
      "metadata": {
        "colab": {
          "base_uri": "https://localhost:8080/"
        },
        "id": "218TOrBYlJcc",
        "outputId": "e3dc29eb-fb4c-4816-afc4-22c66b8993d2"
      },
      "execution_count": 28,
      "outputs": [
        {
          "output_type": "execute_result",
          "data": {
            "text/plain": [
              "torch.Size([32, 3, 2])"
            ]
          },
          "metadata": {},
          "execution_count": 28
        }
      ]
    },
    {
      "cell_type": "code",
      "source": [
        "Tb[0]"
      ],
      "metadata": {
        "colab": {
          "base_uri": "https://localhost:8080/"
        },
        "id": "7t7sibRjmXP0",
        "outputId": "6afe63a1-3eeb-45ad-9c3f-e27de10373c6"
      },
      "execution_count": 32,
      "outputs": [
        {
          "output_type": "execute_result",
          "data": {
            "text/plain": [
              "tensor([-0.2078,  0.4918])"
            ]
          },
          "metadata": {},
          "execution_count": 32
        }
      ]
    },
    {
      "cell_type": "code",
      "source": [
        "Tb[X]"
      ],
      "metadata": {
        "colab": {
          "base_uri": "https://localhost:8080/"
        },
        "id": "CmebmAvsl1IC",
        "outputId": "6f4a23fa-30db-4709-ca7a-1002456591e8"
      },
      "execution_count": 29,
      "outputs": [
        {
          "output_type": "execute_result",
          "data": {
            "text/plain": [
              "tensor([[[-0.2078,  0.4918],\n",
              "         [-0.2078,  0.4918],\n",
              "         [-0.2078,  0.4918]],\n",
              "\n",
              "        [[-0.2078,  0.4918],\n",
              "         [-0.2078,  0.4918],\n",
              "         [ 0.6413, -0.1286]],\n",
              "\n",
              "        [[-0.2078,  0.4918],\n",
              "         [ 0.6413, -0.1286],\n",
              "         [ 0.0119,  0.3816]],\n",
              "\n",
              "        [[ 0.6413, -0.1286],\n",
              "         [ 0.0119,  0.3816],\n",
              "         [ 0.0119,  0.3816]],\n",
              "\n",
              "        [[ 0.0119,  0.3816],\n",
              "         [ 0.0119,  0.3816],\n",
              "         [-1.1517,  0.0263]],\n",
              "\n",
              "        [[-0.2078,  0.4918],\n",
              "         [-0.2078,  0.4918],\n",
              "         [-0.2078,  0.4918]],\n",
              "\n",
              "        [[-0.2078,  0.4918],\n",
              "         [-0.2078,  0.4918],\n",
              "         [-0.6526,  2.1497]],\n",
              "\n",
              "        [[-0.2078,  0.4918],\n",
              "         [-0.6526,  2.1497],\n",
              "         [-0.9482,  0.2679]],\n",
              "\n",
              "        [[-0.6526,  2.1497],\n",
              "         [-0.9482,  0.2679],\n",
              "         [ 0.8038,  1.0480]],\n",
              "\n",
              "        [[-0.9482,  0.2679],\n",
              "         [ 0.8038,  1.0480],\n",
              "         [-0.9765,  1.1767]],\n",
              "\n",
              "        [[ 0.8038,  1.0480],\n",
              "         [-0.9765,  1.1767],\n",
              "         [ 0.8038,  1.0480]],\n",
              "\n",
              "        [[-0.9765,  1.1767],\n",
              "         [ 0.8038,  1.0480],\n",
              "         [-1.1517,  0.0263]],\n",
              "\n",
              "        [[-0.2078,  0.4918],\n",
              "         [-0.2078,  0.4918],\n",
              "         [-0.2078,  0.4918]],\n",
              "\n",
              "        [[-0.2078,  0.4918],\n",
              "         [-0.2078,  0.4918],\n",
              "         [-1.1517,  0.0263]],\n",
              "\n",
              "        [[-0.2078,  0.4918],\n",
              "         [-1.1517,  0.0263],\n",
              "         [-0.9765,  1.1767]],\n",
              "\n",
              "        [[-1.1517,  0.0263],\n",
              "         [-0.9765,  1.1767],\n",
              "         [-1.1517,  0.0263]],\n",
              "\n",
              "        [[-0.2078,  0.4918],\n",
              "         [-0.2078,  0.4918],\n",
              "         [-0.2078,  0.4918]],\n",
              "\n",
              "        [[-0.2078,  0.4918],\n",
              "         [-0.2078,  0.4918],\n",
              "         [ 0.8038,  1.0480]],\n",
              "\n",
              "        [[-0.2078,  0.4918],\n",
              "         [ 0.8038,  1.0480],\n",
              "         [-0.7248,  0.3385]],\n",
              "\n",
              "        [[ 0.8038,  1.0480],\n",
              "         [-0.7248,  0.3385],\n",
              "         [-1.1517,  0.0263]],\n",
              "\n",
              "        [[-0.7248,  0.3385],\n",
              "         [-1.1517,  0.0263],\n",
              "         [-0.7879,  1.0851]],\n",
              "\n",
              "        [[-1.1517,  0.0263],\n",
              "         [-0.7879,  1.0851],\n",
              "         [ 0.6413, -0.1286]],\n",
              "\n",
              "        [[-0.7879,  1.0851],\n",
              "         [ 0.6413, -0.1286],\n",
              "         [-0.9482,  0.2679]],\n",
              "\n",
              "        [[ 0.6413, -0.1286],\n",
              "         [-0.9482,  0.2679],\n",
              "         [-0.9482,  0.2679]],\n",
              "\n",
              "        [[-0.9482,  0.2679],\n",
              "         [-0.9482,  0.2679],\n",
              "         [-1.1517,  0.0263]],\n",
              "\n",
              "        [[-0.2078,  0.4918],\n",
              "         [-0.2078,  0.4918],\n",
              "         [-0.2078,  0.4918]],\n",
              "\n",
              "        [[-0.2078,  0.4918],\n",
              "         [-0.2078,  0.4918],\n",
              "         [-0.7248,  0.3385]],\n",
              "\n",
              "        [[-0.2078,  0.4918],\n",
              "         [-0.7248,  0.3385],\n",
              "         [-0.6526,  2.1497]],\n",
              "\n",
              "        [[-0.7248,  0.3385],\n",
              "         [-0.6526,  2.1497],\n",
              "         [-0.5010,  0.0587]],\n",
              "\n",
              "        [[-0.6526,  2.1497],\n",
              "         [-0.5010,  0.0587],\n",
              "         [-1.2616,  0.2579]],\n",
              "\n",
              "        [[-0.5010,  0.0587],\n",
              "         [-1.2616,  0.2579],\n",
              "         [ 0.8038,  1.0480]],\n",
              "\n",
              "        [[-1.2616,  0.2579],\n",
              "         [ 0.8038,  1.0480],\n",
              "         [-1.1517,  0.0263]]])"
            ]
          },
          "metadata": {},
          "execution_count": 29
        }
      ]
    },
    {
      "cell_type": "code",
      "source": [
        "X[10,2]\n",
        "#integer at the location 10,2\n"
      ],
      "metadata": {
        "colab": {
          "base_uri": "https://localhost:8080/"
        },
        "id": "Zds1agF8mSVL",
        "outputId": "334f8d8c-9f24-4c1b-cd6d-80037ea00d82"
      },
      "execution_count": 33,
      "outputs": [
        {
          "output_type": "execute_result",
          "data": {
            "text/plain": [
              "tensor(9)"
            ]
          },
          "metadata": {},
          "execution_count": 33
        }
      ]
    },
    {
      "cell_type": "code",
      "source": [
        "#its embedding is\n",
        "Tb[X][10,2]\n"
      ],
      "metadata": {
        "colab": {
          "base_uri": "https://localhost:8080/"
        },
        "id": "_UjNEOnXmqU7",
        "outputId": "46bb3030-2055-4f17-c512-006b38a1c7c4"
      },
      "execution_count": 34,
      "outputs": [
        {
          "output_type": "execute_result",
          "data": {
            "text/plain": [
              "tensor([0.8038, 1.0480])"
            ]
          },
          "metadata": {},
          "execution_count": 34
        }
      ]
    },
    {
      "cell_type": "code",
      "source": [
        "#is same as embedidng of 9\n",
        "Tb[9]"
      ],
      "metadata": {
        "colab": {
          "base_uri": "https://localhost:8080/"
        },
        "id": "wIBFbMLAnHbb",
        "outputId": "10e40f39-6dda-4aa8-ff85-05d654317b94"
      },
      "execution_count": 35,
      "outputs": [
        {
          "output_type": "execute_result",
          "data": {
            "text/plain": [
              "tensor([0.8038, 1.0480])"
            ]
          },
          "metadata": {},
          "execution_count": 35
        }
      ]
    },
    {
      "cell_type": "code",
      "source": [
        "embd = Tb[X]\n",
        "embd.shape"
      ],
      "metadata": {
        "colab": {
          "base_uri": "https://localhost:8080/"
        },
        "id": "Hr9wyunXnP_U",
        "outputId": "2b32a32b-b608-4678-fd2d-d11bb7644f98"
      },
      "execution_count": 36,
      "outputs": [
        {
          "output_type": "execute_result",
          "data": {
            "text/plain": [
              "torch.Size([32, 3, 2])"
            ]
          },
          "metadata": {},
          "execution_count": 36
        }
      ]
    },
    {
      "cell_type": "code",
      "source": [
        "Wgt = torch.randn((6,100))\n",
        "bias = torch.randn((100))"
      ],
      "metadata": {
        "id": "GXs_n-nunZN9"
      },
      "execution_count": 38,
      "outputs": []
    },
    {
      "cell_type": "code",
      "source": [
        "#embd @ Wgt +bias\n",
        "#error due to incorrect order of matrix multiplication"
      ],
      "metadata": {
        "id": "HnWFSgkVo8YQ"
      },
      "execution_count": 40,
      "outputs": []
    },
    {
      "cell_type": "code",
      "source": [
        "torch.cat([embd[:,0,:], embd[:,1,:],embd[:,2,:]],1).shape"
      ],
      "metadata": {
        "colab": {
          "base_uri": "https://localhost:8080/"
        },
        "id": "XJTWEuOfpDm2",
        "outputId": "805ce4b0-91cc-489d-f9af-32c75718d095"
      },
      "execution_count": 44,
      "outputs": [
        {
          "output_type": "execute_result",
          "data": {
            "text/plain": [
              "torch.Size([32, 6])"
            ]
          },
          "metadata": {},
          "execution_count": 44
        }
      ]
    },
    {
      "cell_type": "code",
      "source": [
        "#torch.unbind(embd,1)\n",
        "##removes a dimension and gives tuples"
      ],
      "metadata": {
        "id": "zWtxkynlqxPi"
      },
      "execution_count": 54,
      "outputs": []
    },
    {
      "cell_type": "code",
      "source": [
        "torch.cat(torch.unbind(embd,1),1).shape"
      ],
      "metadata": {
        "colab": {
          "base_uri": "https://localhost:8080/"
        },
        "id": "aRdJSX-QwcMB",
        "outputId": "dd5fa807-dc49-4c2a-e639-810627c9c775"
      },
      "execution_count": 46,
      "outputs": [
        {
          "output_type": "execute_result",
          "data": {
            "text/plain": [
              "torch.Size([32, 6])"
            ]
          },
          "metadata": {},
          "execution_count": 46
        }
      ]
    },
    {
      "cell_type": "code",
      "source": [
        "a = torch.arange(10)\n",
        "a"
      ],
      "metadata": {
        "colab": {
          "base_uri": "https://localhost:8080/"
        },
        "id": "PfNfhtbRwzmS",
        "outputId": "9c64b0a0-2e36-413c-9215-296feb0ec716"
      },
      "execution_count": 48,
      "outputs": [
        {
          "output_type": "execute_result",
          "data": {
            "text/plain": [
              "tensor([0, 1, 2, 3, 4, 5, 6, 7, 8, 9])"
            ]
          },
          "metadata": {},
          "execution_count": 48
        }
      ]
    },
    {
      "cell_type": "code",
      "source": [
        "a.shape"
      ],
      "metadata": {
        "colab": {
          "base_uri": "https://localhost:8080/"
        },
        "id": "AOjog2BIxrzu",
        "outputId": "30d1bd00-cea2-4272-b7a8-1144b52f6e49"
      },
      "execution_count": 50,
      "outputs": [
        {
          "output_type": "execute_result",
          "data": {
            "text/plain": [
              "torch.Size([10])"
            ]
          },
          "metadata": {},
          "execution_count": 50
        }
      ]
    },
    {
      "cell_type": "code",
      "source": [
        "a.view(2,5)\n",
        "#changes the dimension--view"
      ],
      "metadata": {
        "colab": {
          "base_uri": "https://localhost:8080/"
        },
        "id": "ayMx36_SxxlR",
        "outputId": "91a79f65-fb4d-4678-b954-d41fbbf98281"
      },
      "execution_count": 51,
      "outputs": [
        {
          "output_type": "execute_result",
          "data": {
            "text/plain": [
              "tensor([[0, 1, 2, 3, 4],\n",
              "        [5, 6, 7, 8, 9]])"
            ]
          },
          "metadata": {},
          "execution_count": 51
        }
      ]
    },
    {
      "cell_type": "code",
      "source": [
        "a.view(2,5,1)"
      ],
      "metadata": {
        "colab": {
          "base_uri": "https://localhost:8080/"
        },
        "id": "Bixbl-fPx3qA",
        "outputId": "b57cf86b-4464-4145-a387-52252bff3b4e"
      },
      "execution_count": 52,
      "outputs": [
        {
          "output_type": "execute_result",
          "data": {
            "text/plain": [
              "tensor([[[0],\n",
              "         [1],\n",
              "         [2],\n",
              "         [3],\n",
              "         [4]],\n",
              "\n",
              "        [[5],\n",
              "         [6],\n",
              "         [7],\n",
              "         [8],\n",
              "         [9]]])"
            ]
          },
          "metadata": {},
          "execution_count": 52
        }
      ]
    },
    {
      "cell_type": "code",
      "source": [
        "embd.shape"
      ],
      "metadata": {
        "colab": {
          "base_uri": "https://localhost:8080/"
        },
        "id": "N8JTXLn7yljA",
        "outputId": "eedb40fd-c440-48aa-99cb-1f57c832b4ce"
      },
      "execution_count": 53,
      "outputs": [
        {
          "output_type": "execute_result",
          "data": {
            "text/plain": [
              "torch.Size([32, 3, 2])"
            ]
          },
          "metadata": {},
          "execution_count": 53
        }
      ]
    },
    {
      "cell_type": "code",
      "source": [
        "th = torch.tanh(embd.view(-1,6) @ Wgt + bias)\n",
        "th"
      ],
      "metadata": {
        "colab": {
          "base_uri": "https://localhost:8080/"
        },
        "id": "crd9EbnWx9ZB",
        "outputId": "ab8db1aa-9467-4850-a20b-84c2de4a4b99"
      },
      "execution_count": 55,
      "outputs": [
        {
          "output_type": "execute_result",
          "data": {
            "text/plain": [
              "tensor([[ 0.7951,  0.3151,  0.6817,  ..., -0.8643,  0.9496, -0.9908],\n",
              "        [ 0.9727,  0.8788,  0.9182,  ..., -0.8000,  0.8364, -0.9768],\n",
              "        [-0.6649, -0.6090,  0.5293,  ..., -0.0512,  0.6771, -0.9955],\n",
              "        ...,\n",
              "        [ 0.6852, -0.9991,  1.0000,  ..., -0.9897,  0.9781, -0.9999],\n",
              "        [ 0.9994,  0.6556, -0.1019,  ..., -0.9998,  0.9835, -0.9951],\n",
              "        [-0.9971,  0.0938, -0.4701,  ...,  0.6577,  0.4718, -0.9997]])"
            ]
          },
          "metadata": {},
          "execution_count": 55
        }
      ]
    },
    {
      "cell_type": "code",
      "source": [
        "th.shape"
      ],
      "metadata": {
        "colab": {
          "base_uri": "https://localhost:8080/"
        },
        "id": "yoU1hyDX4azw",
        "outputId": "1611127b-4709-48e8-efd5-380a74050006"
      },
      "execution_count": 56,
      "outputs": [
        {
          "output_type": "execute_result",
          "data": {
            "text/plain": [
              "torch.Size([32, 100])"
            ]
          },
          "metadata": {},
          "execution_count": 56
        }
      ]
    },
    {
      "cell_type": "code",
      "source": [
        "Wgt_2 = torch.randn((100,27))\n",
        "bias_2 = torch.randn(27)"
      ],
      "metadata": {
        "id": "n6r9FZRo4eHy"
      },
      "execution_count": 57,
      "outputs": []
    },
    {
      "cell_type": "code",
      "source": [
        "logits = th @ Wgt_2 + bias_2\n",
        "logits.shape"
      ],
      "metadata": {
        "colab": {
          "base_uri": "https://localhost:8080/"
        },
        "id": "t9lZeZd08Fr3",
        "outputId": "1c3c88e1-bec4-481a-87e6-8895ee02b9b4"
      },
      "execution_count": 58,
      "outputs": [
        {
          "output_type": "execute_result",
          "data": {
            "text/plain": [
              "torch.Size([32, 27])"
            ]
          },
          "metadata": {},
          "execution_count": 58
        }
      ]
    },
    {
      "cell_type": "code",
      "source": [
        "counts = logits.exp()\n",
        "prob = counts / counts.sum(1,keepdims = True)\n",
        "prob.shape"
      ],
      "metadata": {
        "colab": {
          "base_uri": "https://localhost:8080/"
        },
        "id": "pnHGHrjn9WAV",
        "outputId": "52684564-3bb8-431a-84c9-0f67516ef906"
      },
      "execution_count": 59,
      "outputs": [
        {
          "output_type": "execute_result",
          "data": {
            "text/plain": [
              "torch.Size([32, 27])"
            ]
          },
          "metadata": {},
          "execution_count": 59
        }
      ]
    },
    {
      "cell_type": "code",
      "source": [
        "prob[torch.arange(32),Y]"
      ],
      "metadata": {
        "colab": {
          "base_uri": "https://localhost:8080/"
        },
        "id": "HZ-pd0y1_XpW",
        "outputId": "3eb42bf0-d2b1-44ec-991a-368e7ef28a5d"
      },
      "execution_count": 62,
      "outputs": [
        {
          "output_type": "execute_result",
          "data": {
            "text/plain": [
              "tensor([2.0531e-13, 2.3216e-03, 3.0763e-01, 2.7190e-10, 1.3010e-14, 1.7824e-06,\n",
              "        2.2245e-02, 1.2941e-07, 6.1143e-11, 1.8951e-07, 1.1615e-12, 3.6213e-13,\n",
              "        2.6854e-12, 4.6454e-03, 2.6223e-11, 3.8177e-21, 3.9192e-06, 1.4130e-07,\n",
              "        1.0504e-14, 7.0974e-03, 2.1615e-16, 1.6730e-09, 2.2434e-06, 2.0739e-12,\n",
              "        3.4061e-19, 3.3327e-08, 5.8153e-04, 1.3958e-06, 6.3565e-10, 5.1286e-04,\n",
              "        4.4355e-10, 7.1805e-18])"
            ]
          },
          "metadata": {},
          "execution_count": 62
        }
      ]
    },
    {
      "cell_type": "code",
      "source": [
        "Y"
      ],
      "metadata": {
        "colab": {
          "base_uri": "https://localhost:8080/"
        },
        "id": "Sm-xXPb9_dP1",
        "outputId": "0c983b3d-9d07-407a-8079-7a2a3b972538"
      },
      "execution_count": 61,
      "outputs": [
        {
          "output_type": "execute_result",
          "data": {
            "text/plain": [
              "tensor([ 5, 13, 13,  1,  0, 15, 12,  9, 22,  9,  1,  0,  1, 22,  1,  0,  9, 19,\n",
              "         1,  2,  5, 12, 12,  1,  0, 19, 15, 16,  8,  9,  1,  0])"
            ]
          },
          "metadata": {},
          "execution_count": 61
        }
      ]
    },
    {
      "cell_type": "code",
      "source": [
        "loss = -prob[torch.arange(32),Y].log().mean()\n",
        "loss"
      ],
      "metadata": {
        "colab": {
          "base_uri": "https://localhost:8080/"
        },
        "id": "tbl_ggAYAOfH",
        "outputId": "c415f967-7411-4ddb-f22b-2520ee984dad"
      },
      "execution_count": 63,
      "outputs": [
        {
          "output_type": "execute_result",
          "data": {
            "text/plain": [
              "tensor(20.4331)"
            ]
          },
          "metadata": {},
          "execution_count": 63
        }
      ]
    },
    {
      "cell_type": "code",
      "source": [
        "-----------"
      ],
      "metadata": {
        "id": "iwp_zSD_BEMi"
      },
      "execution_count": 63,
      "outputs": []
    },
    {
      "cell_type": "code",
      "source": [],
      "metadata": {
        "id": "AXvf3ZqEBT6N"
      },
      "execution_count": 69,
      "outputs": []
    },
    {
      "cell_type": "code",
      "source": [],
      "metadata": {
        "id": "PKVFBNy1GHT6"
      },
      "execution_count": null,
      "outputs": []
    },
    {
      "cell_type": "code",
      "source": [
        "g = torch.Generator().manual_seed(2147483647)\n",
        "Tb = torch.rand((27,2), generator = g)\n",
        "Wgt_1 = torch.randn((6,100),generator = g )\n",
        "bias_1 = torch.randn((100), generator = g)\n",
        "Wgt_2 = torch.randn((100,27), generator = g)\n",
        "bias_2 = torch.randn((27), generator = g)\n",
        "parameters = [Tb,Wgt_1,bias_1,Wgt_2,bias_2]"
      ],
      "metadata": {
        "id": "NsNjyXVSBZ3i"
      },
      "execution_count": 64,
      "outputs": []
    },
    {
      "cell_type": "code",
      "source": [
        "for p in parameters:\n",
        "  p.requires_grad = True"
      ],
      "metadata": {
        "id": "RUOlp-4hGOPR"
      },
      "execution_count": 75,
      "outputs": []
    },
    {
      "cell_type": "code",
      "source": [
        "sum(p.nelement() for p in parameters)"
      ],
      "metadata": {
        "colab": {
          "base_uri": "https://localhost:8080/"
        },
        "id": "LhiKTCIfCyO1",
        "outputId": "20ef0202-53b6-44e0-f1d3-47e0b6d81805"
      },
      "execution_count": 65,
      "outputs": [
        {
          "output_type": "execute_result",
          "data": {
            "text/plain": [
              "3481"
            ]
          },
          "metadata": {},
          "execution_count": 65
        }
      ]
    },
    {
      "cell_type": "code",
      "source": [
        "embd = Tb[X]\n",
        "th = torch.tanh(embd.view(-1,6) @ Wgt_1 + bias_1)\n",
        "logits = th @ Wgt_2 + bias_2\n",
        "counts = logits.exp()\n",
        "probs = counts / counts.sum(1, keepdims = True)\n",
        "loss = - probs[torch.arange(32), Y].log().mean()\n",
        "loss"
      ],
      "metadata": {
        "colab": {
          "base_uri": "https://localhost:8080/"
        },
        "id": "pcn-08T3C5-0",
        "outputId": "982d8303-07f9-4d05-c29f-937d2656b09a"
      },
      "execution_count": 67,
      "outputs": [
        {
          "output_type": "execute_result",
          "data": {
            "text/plain": [
              "tensor(10.1065)"
            ]
          },
          "metadata": {},
          "execution_count": 67
        }
      ]
    },
    {
      "cell_type": "code",
      "source": [
        "F.cross_entropy(logits, Y)"
      ],
      "metadata": {
        "colab": {
          "base_uri": "https://localhost:8080/"
        },
        "id": "OMK0j6hbD3tZ",
        "outputId": "b4b7d482-2e11-4eac-c036-346bb95294b3"
      },
      "execution_count": 68,
      "outputs": [
        {
          "output_type": "execute_result",
          "data": {
            "text/plain": [
              "tensor(10.1065)"
            ]
          },
          "metadata": {},
          "execution_count": 68
        }
      ]
    },
    {
      "cell_type": "code",
      "source": [],
      "metadata": {
        "id": "NZsEjxFdI44I"
      },
      "execution_count": null,
      "outputs": []
    },
    {
      "cell_type": "code",
      "source": [
        "--------"
      ],
      "metadata": {
        "id": "LqaHhfFxI5oA"
      },
      "execution_count": null,
      "outputs": []
    },
    {
      "cell_type": "code",
      "source": [],
      "metadata": {
        "id": "4zG5UXHVI58M"
      },
      "execution_count": null,
      "outputs": []
    },
    {
      "cell_type": "code",
      "source": [
        "g = torch.Generator().manual_seed(2147483647)\n",
        "Tb = torch.rand((27,2), generator = g)\n",
        "Wgt_1 = torch.randn((6,100),generator = g )\n",
        "bias_1 = torch.randn((100), generator = g)\n",
        "Wgt_2 = torch.randn((100,27), generator = g)\n",
        "bias_2 = torch.randn((27), generator = g)\n",
        "parameters = [Tb,Wgt_1,bias_1,Wgt_2,bias_2]"
      ],
      "metadata": {
        "id": "X7SX4Y5WEgyu"
      },
      "execution_count": 76,
      "outputs": []
    },
    {
      "cell_type": "code",
      "source": [
        "for p in parameters:\n",
        "  p.requires_grad = True"
      ],
      "metadata": {
        "id": "unDIsC-BI4Pm"
      },
      "execution_count": 77,
      "outputs": []
    },
    {
      "cell_type": "code",
      "source": [
        "# forward pass\n",
        "for _ in range(1000):\n",
        "  embd = Tb[X]\n",
        "  th = torch.tanh(embd.view(-1,6) @ Wgt_1 + bias_1)\n",
        "  logits = th @ Wgt_2 + bias_2\n",
        "  loss = F.cross_entropy(logits, Y)\n",
        "  #print(loss.item())\n",
        "  # backward pass\n",
        "  for p in parameters:\n",
        "    p.grad = None\n",
        "  loss.backward()\n",
        "  for p in parameters:\n",
        "    p.data += -0.1 * p.grad\n",
        "print(loss.item())\n"
      ],
      "metadata": {
        "colab": {
          "base_uri": "https://localhost:8080/"
        },
        "id": "Z4sJzBpfGY6b",
        "outputId": "7b9150b9-474e-4c6a-a376-d06527e15cec"
      },
      "execution_count": 80,
      "outputs": [
        {
          "output_type": "stream",
          "name": "stdout",
          "text": [
            "0.2564482092857361\n"
          ]
        }
      ]
    },
    {
      "cell_type": "code",
      "source": [
        "logits.shape"
      ],
      "metadata": {
        "colab": {
          "base_uri": "https://localhost:8080/"
        },
        "id": "2vur2JKHL8Rj",
        "outputId": "1c3a1681-ba0f-4baa-8c51-8800c18f477e"
      },
      "execution_count": 84,
      "outputs": [
        {
          "output_type": "execute_result",
          "data": {
            "text/plain": [
              "torch.Size([32, 27])"
            ]
          },
          "metadata": {},
          "execution_count": 84
        }
      ]
    },
    {
      "cell_type": "code",
      "source": [
        "logits.max(1)"
      ],
      "metadata": {
        "colab": {
          "base_uri": "https://localhost:8080/"
        },
        "id": "CuoaOacxGidO",
        "outputId": "313f1982-7ea1-4a8c-e0ac-9e68e5202466"
      },
      "execution_count": 81,
      "outputs": [
        {
          "output_type": "execute_result",
          "data": {
            "text/plain": [
              "torch.return_types.max(\n",
              "values=tensor([ 9.3593, 16.6461, 16.2554, 19.0919, 18.3166,  9.3593, 17.2085, 17.5296,\n",
              "        16.2622, 13.6635, 17.9833, 13.4290,  9.3593, 12.3627, 22.5362, 18.8569,\n",
              "         9.3593, 11.4206, 18.4858, 17.7209, 21.3195, 16.6359, 21.2524, 17.8828,\n",
              "        13.9782,  9.3593, 15.1187, 16.9584, 15.2897, 12.7398, 14.9170, 15.1647],\n",
              "       grad_fn=<MaxBackward0>),\n",
              "indices=tensor([19, 13, 13,  1,  0, 19, 12,  9, 22,  9,  1,  0, 19, 22,  1,  0, 19, 19,\n",
              "         1,  2,  5, 12, 12,  1,  0, 19, 15, 16,  8,  9,  1,  0]))"
            ]
          },
          "metadata": {},
          "execution_count": 81
        }
      ]
    },
    {
      "cell_type": "code",
      "source": [
        "---- full code"
      ],
      "metadata": {
        "id": "2fWRYsuVL576"
      },
      "execution_count": null,
      "outputs": []
    },
    {
      "cell_type": "code",
      "source": [],
      "metadata": {
        "id": "MahFYlDHN84M"
      },
      "execution_count": null,
      "outputs": []
    },
    {
      "cell_type": "code",
      "source": [
        "block_size = 3\n",
        "X,Y = [],[]\n",
        "for i in words:\n",
        "  #print(i)\n",
        "  context = [0] * block_size\n",
        "  for p in i +'.':\n",
        "    idx = char_to_int[p]\n",
        "    X.append(context)\n",
        "    Y.append(idx)\n",
        "    #print(''.join(int_to_char[c] for c in context), '--->',p )\n",
        "    context = context[1:] + [idx]\n",
        "\n",
        "X = torch.tensor(X)\n",
        "Y = torch.tensor(Y)"
      ],
      "metadata": {
        "id": "k-Vf59FEN859"
      },
      "execution_count": 105,
      "outputs": []
    },
    {
      "cell_type": "code",
      "source": [
        "X.shape, X.dtype, Y.shape, Y.dtype"
      ],
      "metadata": {
        "colab": {
          "base_uri": "https://localhost:8080/"
        },
        "id": "nT_nYLcWN8-8",
        "outputId": "45b067d7-5ac1-45b0-dea8-4eefe177c4d1"
      },
      "execution_count": 106,
      "outputs": [
        {
          "output_type": "execute_result",
          "data": {
            "text/plain": [
              "(torch.Size([228146, 3]), torch.int64, torch.Size([228146]), torch.int64)"
            ]
          },
          "metadata": {},
          "execution_count": 106
        }
      ]
    },
    {
      "cell_type": "code",
      "source": [
        "g = torch.Generator().manual_seed(2147483647)\n",
        "Tb = torch.rand((27,2), generator = g)\n",
        "Wgt_1 = torch.randn((6,100),generator = g )\n",
        "bias_1 = torch.randn((100), generator = g)\n",
        "Wgt_2 = torch.randn((100,27), generator = g)\n",
        "bias_2 = torch.randn((27), generator = g)\n",
        "parameters = [Tb,Wgt_1,bias_1,Wgt_2,bias_2]"
      ],
      "metadata": {
        "id": "2AYEOP_9N9Ag"
      },
      "execution_count": 107,
      "outputs": []
    },
    {
      "cell_type": "code",
      "source": [
        "for p in parameters:\n",
        "  p.requires_grad = True"
      ],
      "metadata": {
        "id": "hVPCrkv2N9ET"
      },
      "execution_count": 108,
      "outputs": []
    },
    {
      "cell_type": "code",
      "source": [
        "lre = torch.linspace(-3,0,1000)\n",
        "lrs = 10**lre\n"
      ],
      "metadata": {
        "id": "ckpqy59tXky0"
      },
      "execution_count": 109,
      "outputs": []
    },
    {
      "cell_type": "code",
      "source": [
        "learning_rate = []\n",
        "loss_i = []\n",
        "\n",
        "# forward pass\n",
        "for i in range(1000):\n",
        "  idx = torch.randint(0, X.shape[0],(32,))\n",
        "  embd = Tb[X[idx]]\n",
        "  th = torch.tanh(embd.view(-1,6) @ Wgt_1 + bias_1)\n",
        "  logits = th @ Wgt_2 + bias_2\n",
        "  loss = F.cross_entropy(logits, Y[idx])\n",
        "  #print(loss.item())\n",
        "  # backward pass\n",
        "  for p in parameters:\n",
        "    p.grad = None\n",
        "  loss.backward()\n",
        "  lr = lrs[i]\n",
        "  for p in parameters:\n",
        "    p.data += -lr * p.grad\n",
        "  learning_rate.append(lr)\n",
        "  loss_i.append(loss.item())"
      ],
      "metadata": {
        "id": "vHeg66n4N9GB"
      },
      "execution_count": 110,
      "outputs": []
    },
    {
      "cell_type": "code",
      "source": [
        "plt.plot(learning_rate,loss_i)"
      ],
      "metadata": {
        "colab": {
          "base_uri": "https://localhost:8080/",
          "height": 449
        },
        "id": "4J3qkRS8aS2z",
        "outputId": "00657a02-9b12-4e0f-b722-cd0c5df461d2"
      },
      "execution_count": 111,
      "outputs": [
        {
          "output_type": "execute_result",
          "data": {
            "text/plain": [
              "[<matplotlib.lines.Line2D at 0x7de99e9f8160>]"
            ]
          },
          "metadata": {},
          "execution_count": 111
        },
        {
          "output_type": "display_data",
          "data": {
            "text/plain": [
              "<Figure size 640x480 with 1 Axes>"
            ],
            "image/png": "[encoded data removed]"
          },
          "metadata": {}
        }
      ]
    },
    {
      "cell_type": "code",
      "source": [
        "embd = Tb[X]\n",
        "th = torch.tanh(embd.view(-1,6) @ Wgt_1 + bias_1)\n",
        "logits = th @ Wgt_2 + bias_2\n",
        "loss = F.cross_entropy(logits, Y)\n",
        "loss"
      ],
      "metadata": {
        "colab": {
          "base_uri": "https://localhost:8080/"
        },
        "id": "2kYTmlwZN9Jm",
        "outputId": "f713339e-09be-4e13-d1df-cad1edacc6b7"
      },
      "execution_count": 102,
      "outputs": [
        {
          "output_type": "execute_result",
          "data": {
            "text/plain": [
              "tensor(2.4494, grad_fn=<NllLossBackward0>)"
            ]
          },
          "metadata": {},
          "execution_count": 102
        }
      ]
    },
    {
      "cell_type": "code",
      "source": [
        "----"
      ],
      "metadata": {
        "id": "gi4EPKMXkyvO"
      },
      "execution_count": null,
      "outputs": []
    },
    {
      "cell_type": "code",
      "source": [
        "def dataset(words):\n",
        "  block_size = 3\n",
        "  X,Y = [], []\n",
        "  for word in words:\n",
        "    context = [0] * block_size\n",
        "    for char in word + '.':\n",
        "      idx = char_to_int[char]\n",
        "      X.append(context)\n",
        "      Y.append(idx)\n",
        "      context = context[1:] + [idx]\n",
        "  X = torch.tensor(X)\n",
        "  Y = torch.tensor(Y)\n",
        "  print(X.shape, Y.shape)\n",
        "  return X,Y\n",
        "\n",
        "\n",
        "import random\n",
        "random.seed(5)\n",
        "\n",
        "num1 = int(0.8* len(words))\n",
        "num2 = int(0.9* len(words))\n",
        "\n",
        "X_train, Y_train = dataset(words[:num1])\n",
        "X_val, Y_val = dataset(words[num1:num2])\n",
        "X_test, Y_test = dataset(words[num2:])\n",
        "\n"
      ],
      "metadata": {
        "colab": {
          "base_uri": "https://localhost:8080/"
        },
        "id": "RSYZODa-ky9z",
        "outputId": "0dcd7a54-90a9-4cad-9bc1-70660ba7f6b3"
      },
      "execution_count": 114,
      "outputs": [
        {
          "output_type": "stream",
          "name": "stdout",
          "text": [
            "torch.Size([182778, 3]) torch.Size([182778])\n",
            "torch.Size([22633, 3]) torch.Size([22633])\n",
            "torch.Size([22735, 3]) torch.Size([22735])\n"
          ]
        }
      ]
    },
    {
      "cell_type": "code",
      "source": [
        "g = torch.Generator().manual_seed(2147483647)\n",
        "Tb = torch.rand((27,2), generator = g)\n",
        "Wgt_1 = torch.randn((6,100),generator = g )\n",
        "bias_1 = torch.randn((100), generator = g)\n",
        "Wgt_2 = torch.randn((100,27), generator = g)\n",
        "bias_2 = torch.randn((27), generator = g)\n",
        "parameters = [Tb,Wgt_1,bias_1,Wgt_2,bias_2]"
      ],
      "metadata": {
        "id": "1kb-6BFNky_s"
      },
      "execution_count": 115,
      "outputs": []
    },
    {
      "cell_type": "code",
      "source": [
        "for p in parameters:\n",
        "  p.requires_grad = True"
      ],
      "metadata": {
        "id": "38zjMVUYkzDv"
      },
      "execution_count": 116,
      "outputs": []
    },
    {
      "cell_type": "code",
      "source": [
        "learning_rate = []\n",
        "loss_i = []\n",
        "step_i = []\n",
        "\n",
        "# forward pass\n",
        "for i in range(30000):\n",
        "  idx = torch.randint(0, X_train.shape[0],(32,))\n",
        "  embd = Tb[X_train[idx]]\n",
        "  th = torch.tanh(embd.view(-1,6) @ Wgt_1 + bias_1)\n",
        "  logits = th @ Wgt_2 + bias_2\n",
        "  loss = F.cross_entropy(logits, Y_train[idx])\n",
        "  #print(loss.item())\n",
        "  # backward pass\n",
        "  for p in parameters:\n",
        "    p.grad = None\n",
        "  loss.backward()\n",
        "  #lr = lrs[i]\n",
        "  lr = 0.1\n",
        "  for p in parameters:\n",
        "    p.data += -lr * p.grad\n",
        "  #learning_rate.append(lr)\n",
        "  loss_i.append(loss.item())\n",
        "  step_i.append(i)"
      ],
      "metadata": {
        "id": "ZWOhh4Z0kzFm"
      },
      "execution_count": 117,
      "outputs": []
    },
    {
      "cell_type": "code",
      "source": [
        "plt.plot(step_i,loss_i)"
      ],
      "metadata": {
        "colab": {
          "base_uri": "https://localhost:8080/",
          "height": 448
        },
        "id": "vdfMv6ggkzJ-",
        "outputId": "ee234acf-16ae-4fa8-8abf-f83eb580af8f"
      },
      "execution_count": 118,
      "outputs": [
        {
          "output_type": "execute_result",
          "data": {
            "text/plain": [
              "[<matplotlib.lines.Line2D at 0x7de99f0fc6a0>]"
            ]
          },
          "metadata": {},
          "execution_count": 118
        },
        {
          "output_type": "display_data",
          "data": {
            "text/plain": [
              "<Figure size 640x480 with 1 Axes>"
            ],
            "image/png": "[encoded data removed]"
          },
          "metadata": {}
        }
      ]
    },
    {
      "cell_type": "code",
      "source": [
        "embd = Tb[X_train]\n",
        "th = torch.tanh(embd.view(-1,6) @ Wgt_1 + bias_1)\n",
        "logits = th @ Wgt_2 + bias_2\n",
        "loss = F.cross_entropy(logits, Y_train)\n",
        "loss"
      ],
      "metadata": {
        "colab": {
          "base_uri": "https://localhost:8080/"
        },
        "id": "FM3Ko_onkzLl",
        "outputId": "b9ad2867-9464-4fc1-aff9-ba463f904220"
      },
      "execution_count": 121,
      "outputs": [
        {
          "output_type": "execute_result",
          "data": {
            "text/plain": [
              "tensor(2.4066, grad_fn=<NllLossBackward0>)"
            ]
          },
          "metadata": {},
          "execution_count": 121
        }
      ]
    },
    {
      "cell_type": "code",
      "source": [
        "embd = Tb[X_val]\n",
        "th = torch.tanh(embd.view(-1,6) @ Wgt_1 + bias_1)\n",
        "logits = th @ Wgt_2 + bias_2\n",
        "loss = F.cross_entropy(logits, Y_val)\n",
        "loss"
      ],
      "metadata": {
        "colab": {
          "base_uri": "https://localhost:8080/"
        },
        "id": "l1Vfya62kzQK",
        "outputId": "648bb1b2-6f7b-4705-ca74-72fddae97bc0"
      },
      "execution_count": 122,
      "outputs": [
        {
          "output_type": "execute_result",
          "data": {
            "text/plain": [
              "tensor(2.6659, grad_fn=<NllLossBackward0>)"
            ]
          },
          "metadata": {},
          "execution_count": 122
        }
      ]
    },
    {
      "cell_type": "code",
      "source": [
        "plt.figure(figsize = (8,8))\n",
        "plt.scatter(Tb[:,0].data,Tb[:,1].data, s= 200)\n",
        "for i in range(Tb.shape[0]):\n",
        "  plt.text(Tb[i,0].item(),Tb[i,1].item(),int_to_char[i], ha = \"center\", va= \"center\",color = 'white')\n",
        "plt.grid('minor')"
      ],
      "metadata": {
        "colab": {
          "base_uri": "https://localhost:8080/",
          "height": 676
        },
        "id": "rBLjynJ7N9LU",
        "outputId": "6fd9d393-49c1-4621-d6ed-2094f3ff1e95"
      },
      "execution_count": 123,
      "outputs": [
        {
          "output_type": "display_data",
          "data": {
            "text/plain": [
              "<Figure size 800x800 with 1 Axes>"
            ],
            "image/png": "[encoded data removed]"
          },
          "metadata": {}
        }
      ]
    },
    {
      "cell_type": "code",
      "source": [],
      "metadata": {
        "id": "N9q-PTHk0mPO"
      },
      "execution_count": null,
      "outputs": []
    },
    {
      "cell_type": "code",
      "source": [],
      "metadata": {
        "id": "9FBNwmuz1vK2"
      },
      "execution_count": null,
      "outputs": []
    },
    {
      "cell_type": "code",
      "source": [
        "---- more than 2 dimensions"
      ],
      "metadata": {
        "id": "sZgglvyV1vMj"
      },
      "execution_count": null,
      "outputs": []
    },
    {
      "cell_type": "code",
      "source": [
        "g = torch.Generator().manual_seed(2147483647)\n",
        "Tb = torch.rand((27,10), generator = g)\n",
        "Wgt_1 = torch.randn((30,200),generator = g )\n",
        "bias_1 = torch.randn((200), generator = g)\n",
        "Wgt_2 = torch.randn((200,27), generator = g)\n",
        "bias_2 = torch.randn((27), generator = g)\n",
        "parameters = [Tb,Wgt_1,bias_1,Wgt_2,bias_2]"
      ],
      "metadata": {
        "id": "7ZWDgj_T1vQl"
      },
      "execution_count": 124,
      "outputs": []
    },
    {
      "cell_type": "code",
      "source": [
        "sum(p.nelement() for p in parameters)"
      ],
      "metadata": {
        "colab": {
          "base_uri": "https://localhost:8080/"
        },
        "id": "ni0Q9sRU1vSX",
        "outputId": "b0e595d7-dbf6-4c88-e8cc-0f9fc27f12f2"
      },
      "execution_count": 125,
      "outputs": [
        {
          "output_type": "execute_result",
          "data": {
            "text/plain": [
              "11897"
            ]
          },
          "metadata": {},
          "execution_count": 125
        }
      ]
    },
    {
      "cell_type": "code",
      "source": [
        "for p in parameters:\n",
        "  p.requires_grad = True"
      ],
      "metadata": {
        "id": "smLbOMoS40Sv"
      },
      "execution_count": 126,
      "outputs": []
    },
    {
      "cell_type": "code",
      "source": [
        "learning_rate = []\n",
        "loss_i = []\n",
        "step_i = []\n"
      ],
      "metadata": {
        "id": "GSlnFv0q5Mo7"
      },
      "execution_count": 127,
      "outputs": []
    },
    {
      "cell_type": "code",
      "source": [
        "\n",
        "# forward pass\n",
        "for i in range(30000):\n",
        "  idx = torch.randint(0, X_train.shape[0],(32,))\n",
        "  embd = Tb[X_train[idx]]\n",
        "  th = torch.tanh(embd.view(-1,30) @ Wgt_1 + bias_1)\n",
        "  logits = th @ Wgt_2 + bias_2\n",
        "  loss = F.cross_entropy(logits, Y_train[idx])\n",
        "  #print(loss.item())\n",
        "  # backward pass\n",
        "  for p in parameters:\n",
        "    p.grad = None\n",
        "  loss.backward()\n",
        "  #lr = lrs[i]\n",
        "  lr = 0.1\n",
        "  for p in parameters:\n",
        "    p.data += -lr * p.grad\n",
        "  #learning_rate.append(lr)\n",
        "  loss_i.append(loss.log10().item())\n",
        "  step_i.append(i)"
      ],
      "metadata": {
        "id": "3cckkgf6482s"
      },
      "execution_count": 136,
      "outputs": []
    },
    {
      "cell_type": "code",
      "source": [
        "plt.plot(step_i, loss_i)"
      ],
      "metadata": {
        "colab": {
          "base_uri": "https://localhost:8080/",
          "height": 448
        },
        "id": "YEd7A-kU5fW8",
        "outputId": "9f201085-2243-4df0-d24c-a51a94d1be3b"
      },
      "execution_count": 131,
      "outputs": [
        {
          "output_type": "execute_result",
          "data": {
            "text/plain": [
              "[<matplotlib.lines.Line2D at 0x7de99e9b3d00>]"
            ]
          },
          "metadata": {},
          "execution_count": 131
        },
        {
          "output_type": "display_data",
          "data": {
            "text/plain": [
              "<Figure size 640x480 with 1 Axes>"
            ],
            "image/png": "[encoded data removed]"
          },
          "metadata": {}
        }
      ]
    },
    {
      "cell_type": "code",
      "source": [
        "embd = Tb[X_train]\n",
        "th = torch.tanh(embd.view(-1,30) @ Wgt_1 + bias_1)\n",
        "logits = th @ Wgt_2 + bias_2\n",
        "loss = F.cross_entropy(logits, Y_train)\n",
        "loss"
      ],
      "metadata": {
        "colab": {
          "base_uri": "https://localhost:8080/"
        },
        "id": "9AsVaSTZ5pqY",
        "outputId": "b0e2dc7b-3900-4b47-a149-ef23d8ab65fe"
      },
      "execution_count": 137,
      "outputs": [
        {
          "output_type": "execute_result",
          "data": {
            "text/plain": [
              "tensor(2.2809, grad_fn=<NllLossBackward0>)"
            ]
          },
          "metadata": {},
          "execution_count": 137
        }
      ]
    },
    {
      "cell_type": "code",
      "source": [
        "embd = Tb[X_val]\n",
        "th = torch.tanh(embd.view(-1,30) @ Wgt_1 + bias_1)\n",
        "logits = th @ Wgt_2 + bias_2\n",
        "loss = F.cross_entropy(logits, Y_val)\n",
        "loss"
      ],
      "metadata": {
        "colab": {
          "base_uri": "https://localhost:8080/"
        },
        "id": "Epp1e9TY5qKN",
        "outputId": "45e17e27-6251-4d96-b419-9dafc746298a"
      },
      "execution_count": 134,
      "outputs": [
        {
          "output_type": "execute_result",
          "data": {
            "text/plain": [
              "tensor(2.8482, grad_fn=<NllLossBackward0>)"
            ]
          },
          "metadata": {},
          "execution_count": 134
        }
      ]
    },
    {
      "cell_type": "code",
      "source": [
        "plt.figure(figsize = (8,8))\n",
        "plt.scatter(Tb[:,0].data,Tb[:,1].data, s= 200)\n",
        "for i in range(Tb.shape[0]):\n",
        "  plt.text(Tb[i,0].item(),Tb[i,1].item(),int_to_char[i], ha = \"center\", va= \"center\",color = 'white')\n",
        "plt.grid('minor')"
      ],
      "metadata": {
        "colab": {
          "base_uri": "https://localhost:8080/",
          "height": 676
        },
        "id": "bDh4N15E5qL9",
        "outputId": "c2b77afb-e0d7-499b-bc68-4a08716e8765"
      },
      "execution_count": 138,
      "outputs": [
        {
          "output_type": "display_data",
          "data": {
            "text/plain": [
              "<Figure size 800x800 with 1 Axes>"
            ],
            "image/png": "[encoded data removed]"
          },
          "metadata": {}
        }
      ]
    },
    {
      "cell_type": "code",
      "source": [
        "for _ in range(30):\n",
        "  output = []\n",
        "  context = [0] * block_size\n",
        "  while True:\n",
        "    embd = Tb[torch.tensor([context])]\n",
        "    th = torch.tanh(embd.view(1,-1) @ Wgt_1 + bias_1)\n",
        "    logits = th @ Wgt_2 + bias_2\n",
        "    probs = F.softmax(logits, dim = 1)\n",
        "    idx = torch.multinomial(probs, num_samples = 1, generator = g).item()\n",
        "    context = context[1:] + [idx]\n",
        "    output.append(idx)\n",
        "    if idx ==0:\n",
        "      break\n",
        "\n",
        "  print(''.join(int_to_char[i] for i in output))\n"
      ],
      "metadata": {
        "colab": {
          "base_uri": "https://localhost:8080/"
        },
        "id": "7Wf2jiAg6HTe",
        "outputId": "8052bffe-f0ab-48c3-c402-f40ce9589303"
      },
      "execution_count": 142,
      "outputs": [
        {
          "output_type": "stream",
          "name": "stdout",
          "text": [
            "beyleencley.\n",
            "konsees.\n",
            "madwa.\n",
            "caeler.\n",
            "adeirlea.\n",
            "lilah.\n",
            "maisee.\n",
            "nolelanda.\n",
            "dee.\n",
            "jalee.\n",
            "lemelex.\n",
            "brison.\n",
            "calke.\n",
            "aleen.\n",
            "aedexiee.\n",
            "mil.\n",
            "leonnee.\n",
            "nalexlee.\n",
            "haeshao.\n",
            "davanleighmerden.\n",
            "mileuguur.\n",
            "ilabelit.\n",
            "abellea.\n",
            "daela.\n",
            "ella.\n",
            "navolberlet.\n",
            "aleliseel.\n",
            "zef.\n",
            "jene.\n",
            "elieerrelle.\n"
          ]
        }
      ]
    },
    {
      "cell_type": "code",
      "source": [],
      "metadata": {
        "id": "8yreujLL9BBr"
      },
      "execution_count": null,
      "outputs": []
    }
  ]
}